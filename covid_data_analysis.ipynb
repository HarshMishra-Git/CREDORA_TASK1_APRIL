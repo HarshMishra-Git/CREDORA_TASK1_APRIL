{
 "cells": [
  {
   "cell_type": "markdown",
   "metadata": {},
   "source": [
    "# COVID-19 Data Analysis Notebook\n",
    "\n",
    "This notebook performs end-to-end analysis of COVID-19 datasets, including data preprocessing, exploratory data analysis, and visualization. The processed data will be used in a Streamlit dashboard for interactive visualization."
   ]
  },
  {
   "cell_type": "code",
   "execution_count": null,
   "metadata": {},
   "outputs": [],
   "source": [
    "# Import necessary libraries\n",
    "import pandas as pd\n",
    "import numpy as np\n",
    "import matplotlib.pyplot as plt\n",
    "import seaborn as sns\n",
    "import plotly.express as px\n",
    "import plotly.graph_objects as go\n",
    "from plotly.subplots import make_subplots\n",
    "from datetime import datetime\n",
    "\n",
    "# Set the style for matplotlib\n",
    "plt.style.use('ggplot')\n",
    "sns.set_style(\"whitegrid\")\n",
    "\n",
    "# Configure pandas to display more rows and columns\n",
    "pd.set_option('display.max_rows', 100)\n",
    "pd.set_option('display.max_columns', 50)\n",
    "pd.set_option('display.width', 1000)"
   ]
  },
  {
   "cell_type": "markdown",
   "metadata": {},
   "source": [
    "## 1. Data Loading and Initial Exploration"
   ]
  },
  {
   "cell_type": "code",
   "execution_count": null,
   "metadata": {},
   "outputs": [],
   "source": [
    "# Load the datasets\n",
    "day_wise_df = pd.read_csv('attached_assets/day_wise.csv')\n",
    "full_grouped_df = pd.read_csv('attached_assets/full_grouped.csv')\n",
    "usa_county_wise_df = pd.read_csv('attached_assets/usa_county_wise.csv')\n",
    "worldometer_df = pd.read_csv('attached_assets/worldometer_data.csv')\n",
    "\n",
    "# Display basic information about the datasets\n",
    "print(\"Day-wise Dataset:\")\n",
    "print(f\"Shape: {day_wise_df.shape}\")\n",
    "day_wise_df.head()"
   ]
  },
  {
   "cell_type": "code",
   "execution_count": null,
   "metadata": {},
   "outputs": [],
   "source": [
    "print(\"Full Grouped Dataset:\")\n",
    "print(f\"Shape: {full_grouped_df.shape}\")\n",
    "full_grouped_df.head()"
   ]
  },
  {
   "cell_type": "code",
   "execution_count": null,
   "metadata": {},
   "outputs": [],
   "source": [
    "print(\"USA County-wise Dataset:\")\n",
    "print(f\"Shape: {usa_county_wise_df.shape}\")\n",
    "usa_county_wise_df.head()"
   ]
  },
  {
   "cell_type": "code",
   "execution_count": null,
   "metadata": {},
   "outputs": [],
   "source": [
    "print(\"Worldometer Dataset:\")\n",
    "print(f\"Shape: {worldometer_df.shape}\")\n",
    "worldometer_df.head()"
   ]
  },
  {
   "cell_type": "markdown",
   "metadata": {},
   "source": [
    "## 2. Data Preprocessing"
   ]
  },
  {
   "cell_type": "markdown",
   "metadata": {},
   "source": [
    "### 2.1 Check for missing values"
   ]
  },
  {
   "cell_type": "code",
   "execution_count": null,
   "metadata": {},
   "outputs": [],
   "source": [
    "# Check for missing values in day_wise_df\n",
    "print(\"Missing values in day_wise_df:\")\n",
    "print(day_wise_df.isnull().sum())\n",
    "\n",
    "# Check for missing values in full_grouped_df\n",
    "print(\"\\nMissing values in full_grouped_df:\")\n",
    "print(full_grouped_df.isnull().sum())\n",
    "\n",
    "# Check for missing values in worldometer_df\n",
    "print(\"\\nMissing values in worldometer_df:\")\n",
    "print(worldometer_df.isnull().sum())"
   ]
  },
  {
   "cell_type": "markdown",
   "metadata": {},
   "source": [
    "### 2.2 Preprocessing the day_wise_df dataset"
   ]
  },
  {
   "cell_type": "code",
   "execution_count": null,
   "metadata": {},
   "outputs": [],
   "source": [
    "# Convert Date column to datetime\n",
    "day_wise_df['Date'] = pd.to_datetime(day_wise_df['Date'])\n",
    "\n",
    "# Check data types\n",
    "day_wise_df.dtypes"
   ]
  },
  {
   "cell_type": "markdown",
   "metadata": {},
   "source": [
    "### 2.3 Preprocessing the full_grouped_df dataset"
   ]
  },
  {
   "cell_type": "code",
   "execution_count": null,
   "metadata": {},
   "outputs": [],
   "source": [
    "# Convert Date column to datetime\n",
    "full_grouped_df['Date'] = pd.to_datetime(full_grouped_df['Date'])\n",
    "\n",
    "# Remove records where confirmed cases are less than 15\n",
    "full_grouped_filtered = full_grouped_df[full_grouped_df['Confirmed'] >= 15]\n",
    "\n",
    "# Keep only relevant columns\n",
    "full_grouped_relevant = full_grouped_filtered[['Date', 'Country/Region', 'Confirmed', 'Deaths', 'Recovered', 'Active', 'WHO Region']]\n",
    "\n",
    "# Display the processed dataframe\n",
    "print(f\"Shape after filtering: {full_grouped_relevant.shape}\")\n",
    "full_grouped_relevant.head()"
   ]
  },
  {
   "cell_type": "markdown",
   "metadata": {},
   "source": [
    "### 2.4 Preprocessing the worldometer_df dataset"
   ]
  },
  {
   "cell_type": "code",
   "execution_count": null,
   "metadata": {},
   "outputs": [],
   "source": [
    "# Clean worldometer dataset\n",
    "# Remove rows with confirmed cases less than 15\n",
    "worldometer_filtered = worldometer_df[worldometer_df['TotalCases'] >= 15]\n",
    "\n",
    "# Keep only relevant columns\n",
    "worldometer_relevant = worldometer_filtered[['Country/Region', 'Continent', 'TotalCases', 'TotalDeaths', 'TotalRecovered', \n",
    "                                            'ActiveCases', 'WHO Region', 'Population']]\n",
    "\n",
    "# Rename columns for consistency\n",
    "worldometer_relevant = worldometer_relevant.rename(columns={\n",
    "    'TotalCases': 'Confirmed',\n",
    "    'TotalDeaths': 'Deaths',\n",
    "    'TotalRecovered': 'Recovered',\n",
    "    'ActiveCases': 'Active'\n",
    "})\n",
    "\n",
    "# Display the processed dataframe\n",
    "print(f\"Shape after filtering: {worldometer_relevant.shape}\")\n",
    "worldometer_relevant.head()"
   ]
  },
  {
   "cell_type": "markdown",
   "metadata": {},
   "source": [
    "## 3. Exploratory Data Analysis"
   ]
  },
  {
   "cell_type": "markdown",
   "metadata": {},
   "source": [
    "### 3.1 Global COVID-19 Trends"
   ]
  },
  {
   "cell_type": "code",
   "execution_count": null,
   "metadata": {},
   "outputs": [],
   "source": [
    "# Plot the global COVID-19 trends\n",
    "fig = make_subplots(rows=2, cols=2, \n",
    "                    subplot_titles=(\"Global Confirmed Cases\", \"Global Deaths\", \n",
    "                                    \"Global Recovered Cases\", \"Global Active Cases\"),\n",
    "                    shared_xaxes=True)\n",
    "\n",
    "fig.add_trace(go.Scatter(x=day_wise_df['Date'], y=day_wise_df['Confirmed'], mode='lines+markers', name='Confirmed'), row=1, col=1)\n",
    "fig.add_trace(go.Scatter(x=day_wise_df['Date'], y=day_wise_df['Deaths'], mode='lines+markers', name='Deaths'), row=1, col=2)\n",
    "fig.add_trace(go.Scatter(x=day_wise_df['Date'], y=day_wise_df['Recovered'], mode='lines+markers', name='Recovered'), row=2, col=1)\n",
    "fig.add_trace(go.Scatter(x=day_wise_df['Date'], y=day_wise_df['Active'], mode='lines+markers', name='Active'), row=2, col=2)\n",
    "\n",
    "fig.update_layout(height=800, width=1200, title_text=\"Global COVID-19 Trends\")\n",
    "fig.show()"
   ]
  },
  {
   "cell_type": "code",
   "execution_count": null,
   "metadata": {},
   "outputs": [],
   "source": [
    "# Plot the daily new cases, new deaths, and new recoveries\n",
    "fig = make_subplots(rows=1, cols=3, \n",
    "                    subplot_titles=(\"Daily New Cases\", \"Daily New Deaths\", \"Daily New Recoveries\"),\n",
    "                    shared_xaxes=True)\n",
    "\n",
    "fig.add_trace(go.Bar(x=day_wise_df['Date'], y=day_wise_df['New cases'], name='New Cases'), row=1, col=1)\n",
    "fig.add_trace(go.Bar(x=day_wise_df['Date'], y=day_wise_df['New deaths'], name='New Deaths'), row=1, col=2)\n",
    "fig.add_trace(go.Bar(x=day_wise_df['Date'], y=day_wise_df['New recovered'], name='New Recovered'), row=1, col=3)\n",
    "\n",
    "fig.update_layout(height=500, width=1200, title_text=\"Daily COVID-19 Statistics\")\n",
    "fig.show()"
   ]
  },
  {
   "cell_type": "markdown",
   "metadata": {},
   "source": [
    "### 3.2 COVID-19 Analysis by Country/Region"
   ]
  },
  {
   "cell_type": "code",
   "execution_count": null,
   "metadata": {},
   "outputs": [],
   "source": [
    "# Get the latest data for each country\n",
    "latest_date = full_grouped_relevant['Date'].max()\n",
    "latest_data = full_grouped_relevant[full_grouped_relevant['Date'] == latest_date]\n",
    "\n",
    "# Sort by confirmed cases in descending order\n",
    "top_countries = latest_data.sort_values('Confirmed', ascending=False).head(15)\n",
    "\n",
    "# Create a horizontal bar chart for top 15 countries by confirmed cases\n",
    "fig = px.bar(top_countries, y='Country/Region', x='Confirmed', color='WHO Region',\n",
    "             orientation='h', title='Top 15 Countries by Confirmed Cases',\n",
    "             labels={'Confirmed': 'Total Confirmed Cases', 'Country/Region': 'Country'},\n",
    "             height=600)\n",
    "fig.show()"
   ]
  },
  {
   "cell_type": "code",
   "execution_count": null,
   "metadata": {},
   "outputs": [],
   "source": [
    "# Create a horizontal bar chart for top 15 countries by deaths\n",
    "top_deaths = latest_data.sort_values('Deaths', ascending=False).head(15)\n",
    "fig = px.bar(top_deaths, y='Country/Region', x='Deaths', color='WHO Region',\n",
    "             orientation='h', title='Top 15 Countries by Deaths',\n",
    "             labels={'Deaths': 'Total Deaths', 'Country/Region': 'Country'},\n",
    "             height=600)\n",
    "fig.show()"
   ]
  },
  {
   "cell_type": "code",
   "execution_count": null,
   "metadata": {},
   "outputs": [],
   "source": [
    "# Calculate mortality rate (deaths per 100 confirmed cases) for each country\n",
    "latest_data['Mortality Rate (%)'] = (latest_data['Deaths'] / latest_data['Confirmed']) * 100\n",
    "\n",
    "# Filter countries with at least 1000 confirmed cases for meaningful mortality rate calculation\n",
    "mortality_data = latest_data[latest_data['Confirmed'] >= 1000].sort_values('Mortality Rate (%)', ascending=False).head(15)\n",
    "\n",
    "# Create a horizontal bar chart for mortality rate\n",
    "fig = px.bar(mortality_data, y='Country/Region', x='Mortality Rate (%)', color='WHO Region',\n",
    "             orientation='h', title='Top 15 Countries by Mortality Rate (for countries with at least 1000 cases)',\n",
    "             labels={'Mortality Rate (%)': 'Deaths per 100 Confirmed Cases', 'Country/Region': 'Country'},\n",
    "             height=600)\n",
    "fig.show()"
   ]
  },
  {
   "cell_type": "markdown",
   "metadata": {},
   "source": [
    "### 3.3 COVID-19 Analysis by WHO Region"
   ]
  },
  {
   "cell_type": "code",
   "execution_count": null,
   "metadata": {},
   "outputs": [],
   "source": [
    "# Group data by WHO Region\n",
    "region_data = latest_data.groupby('WHO Region').agg({\n",
    "    'Confirmed': 'sum',\n",
    "    'Deaths': 'sum',\n",
    "    'Recovered': 'sum',\n",
    "    'Active': 'sum'\n",
    "}).reset_index()\n",
    "\n",
    "# Calculate mortality rate by region\n",
    "region_data['Mortality Rate (%)'] = (region_data['Deaths'] / region_data['Confirmed']) * 100\n",
    "\n",
    "# Display region data\n",
    "region_data.sort_values('Confirmed', ascending=False)"
   ]
  },
  {
   "cell_type": "code",
   "execution_count": null,
   "metadata": {},
   "outputs": [],
   "source": [
    "# Create pie charts for distribution by WHO Region\n",
    "fig = make_subplots(rows=2, cols=2, specs=[[{'type': 'domain'}, {'type': 'domain'}],\n",
    "                                           [{'type': 'domain'}, {'type': 'domain'}]],\n",
    "                    subplot_titles=(\"Confirmed Cases\", \"Deaths\", \"Recovered Cases\", \"Active Cases\"))\n",
    "\n",
    "fig.add_trace(go.Pie(labels=region_data['WHO Region'], values=region_data['Confirmed'], name=\"Confirmed\"), 1, 1)\n",
    "fig.add_trace(go.Pie(labels=region_data['WHO Region'], values=region_data['Deaths'], name=\"Deaths\"), 1, 2)\n",
    "fig.add_trace(go.Pie(labels=region_data['WHO Region'], values=region_data['Recovered'], name=\"Recovered\"), 2, 1)\n",
    "fig.add_trace(go.Pie(labels=region_data['WHO Region'], values=region_data['Active'], name=\"Active\"), 2, 2)\n",
    "\n",
    "fig.update_layout(title_text=\"COVID-19 Distribution by WHO Region\", height=700)\n",
    "fig.show()"
   ]
  },
  {
   "cell_type": "markdown",
   "metadata": {},
   "source": [
    "### 3.4 Time Series Analysis for Top Countries"
   ]
  },
  {
   "cell_type": "code",
   "execution_count": null,
   "metadata": {},
   "outputs": [],
   "source": [
    "# Get the top 5 countries by confirmed cases\n",
    "top_5_countries = latest_data.sort_values('Confirmed', ascending=False).head(5)['Country/Region'].tolist()\n",
    "\n",
    "# Filter data for top 5 countries\n",
    "top_countries_data = full_grouped_relevant[full_grouped_relevant['Country/Region'].isin(top_5_countries)]\n",
    "\n",
    "# Plot time series data for top 5 countries\n",
    "fig = px.line(top_countries_data, x='Date', y='Confirmed', color='Country/Region',\n",
    "              title='COVID-19 Confirmed Cases for Top 5 Countries',\n",
    "              labels={'Confirmed': 'Total Confirmed Cases', 'Date': 'Date', 'Country/Region': 'Country'},\n",
    "              height=600)\n",
    "fig.show()"
   ]
  },
  {
   "cell_type": "code",
   "execution_count": null,
   "metadata": {},
   "outputs": [],
   "source": [
    "# Plot time series data for deaths in top 5 countries\n",
    "fig = px.line(top_countries_data, x='Date', y='Deaths', color='Country/Region',\n",
    "              title='COVID-19 Deaths for Top 5 Countries',\n",
    "              labels={'Deaths': 'Total Deaths', 'Date': 'Date', 'Country/Region': 'Country'},\n",
    "              height=600)\n",
    "fig.show()"
   ]
  },
  {
   "cell_type": "markdown",
   "metadata": {},
   "source": [
    "### 3.5 Analysis Using Worldometer Data"
   ]
  },
  {
   "cell_type": "code",
   "execution_count": null,
   "metadata": {},
   "outputs": [],
   "source": [
    "# Group data by continent\n",
    "continent_data = worldometer_relevant.groupby('Continent').agg({\n",
    "    'Confirmed': 'sum',\n",
    "    'Deaths': 'sum',\n",
    "    'Recovered': 'sum',\n",
    "    'Active': 'sum',\n",
    "    'Population': 'sum'\n",
    "}).reset_index()\n",
    "\n",
    "# Calculate cases per million and deaths per million\n",
    "continent_data['Cases per Million'] = (continent_data['Confirmed'] / continent_data['Population']) * 1000000\n",
    "continent_data['Deaths per Million'] = (continent_data['Deaths'] / continent_data['Population']) * 1000000\n",
    "\n",
    "# Display continent data\n",
    "continent_data.sort_values('Confirmed', ascending=False)"
   ]
  },
  {
   "cell_type": "code",
   "execution_count": null,
   "metadata": {},
   "outputs": [],
   "source": [
    "# Create bar charts for continent analysis\n",
    "fig = make_subplots(rows=1, cols=2, subplot_titles=(\"Cases per Million\", \"Deaths per Million\"))\n",
    "\n",
    "fig.add_trace(go.Bar(x=continent_data['Continent'], y=continent_data['Cases per Million'], name=\"Cases per Million\"), 1, 1)\n",
    "fig.add_trace(go.Bar(x=continent_data['Continent'], y=continent_data['Deaths per Million'], name=\"Deaths per Million\"), 1, 2)\n",
    "\n",
    "fig.update_layout(title_text=\"COVID-19 Impact by Continent\", height=500)\n",
    "fig.show()"
   ]
  },
  {
   "cell_type": "markdown",
   "metadata": {},
   "source": [
    "## 4. Identify Regions with Highest Cases"
   ]
  },
  {
   "cell_type": "code",
   "execution_count": null,
   "metadata": {},
   "outputs": [],
   "source": [
    "# Identify and display regions with highest confirmed cases\n",
    "highest_cases = latest_data.sort_values('Confirmed', ascending=False).head(10)\n",
    "print(\"Top 10 Countries/Regions with Highest Confirmed Cases:\")\n",
    "highest_cases[['Country/Region', 'Confirmed', 'Deaths', 'Recovered', 'Active']]"
   ]
  },
  {
   "cell_type": "code",
   "execution_count": null,
   "metadata": {},
   "outputs": [],
   "source": [
    "# Create a map visualization for confirmed cases\n",
    "fig = px.choropleth(latest_data, \n",
    "                    locations=\"Country/Region\", \n",
    "                    locationmode=\"country names\",\n",
    "                    color=np.log10(latest_data[\"Confirmed\"]), \n",
    "                    hover_name=\"Country/Region\",\n",
    "                    hover_data=[\"Confirmed\", \"Deaths\", \"Recovered\", \"Active\"],\n",
    "                    title=\"Global Distribution of COVID-19 Confirmed Cases (log scale)\",\n",
    "                    color_continuous_scale=px.colors.sequential.Plasma,\n",
    "                    labels={\"color\": \"Log10(Confirmed Cases)\"})\n",
    "\n",
    "fig.update_layout(height=600)\n",
    "fig.show()"
   ]
  },
  {
   "cell_type": "markdown",
   "metadata": {},
   "source": [
    "## 5. Save Processed Data for Dashboard"
   ]
  },
  {
   "cell_type": "code",
   "execution_count": null,
   "metadata": {},
   "outputs": [],
   "source": [
    "# Save processed datasets for the dashboard\n",
    "day_wise_df.to_csv('processed_day_wise.csv', index=False)\n",
    "full_grouped_relevant.to_csv('processed_country_wise.csv', index=False)\n",
    "worldometer_relevant.to_csv('processed_worldometer.csv', index=False)\n",
    "\n",
    "# Save the latest data snapshot\n",
    "latest_data.to_csv('latest_covid_data.csv', index=False)\n",
    "\n",
    "print(\"All processed datasets have been saved successfully.\")"
   ]
  },
  {
   "cell_type": "markdown",
   "metadata": {},
   "source": [
    "## 6. Summary of Findings"
   ]
  },
  {
   "cell_type": "markdown",
   "metadata": {},
   "source": [
    "### Key Insights:\n",
    "\n",
    "1. **Global Trends**: The COVID-19 pandemic showed a rapid increase in cases globally, with significant growth in confirmed cases, deaths, and recoveries over time.\n",
    "\n",
    "2. **Regional Distribution**: The Americas and Europe have been the most severely affected regions in terms of confirmed cases and deaths.\n",
    "\n",
    "3. **Country Analysis**: The United States, Brazil, and India emerged as the countries with the highest number of confirmed cases.\n",
    "\n",
    "4. **Mortality Rates**: Some countries have significantly higher mortality rates than others, which could be attributed to various factors including healthcare capacity, demographics, and testing strategies.\n",
    "\n",
    "5. **Continental Impact**: When normalized by population, Europe and North America show the highest cases per million people, indicating the severity of the pandemic in these regions despite their advanced healthcare systems.\n",
    "\n",
    "These insights will be visualized in the interactive Streamlit dashboard for further exploration."
   ]
  }
 ],
 "metadata": {
  "kernelspec": {
   "display_name": "Python 3",
   "language": "python",
   "name": "python3"
  },
  "language_info": {
   "codemirror_mode": {
    "name": "ipython",
    "version": 3
   },
   "file_extension": ".py",
   "mimetype": "text/x-python",
   "name": "python",
   "nbconvert_exporter": "python",
   "pygments_lexer": "ipython3",
   "version": "3.8.5"
  }
 },
 "nbformat": 4,
 "nbformat_minor": 4
}
